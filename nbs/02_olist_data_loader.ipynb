{
 "cells": [
  {
   "cell_type": "markdown",
   "metadata": {},
   "source": [
    "# olist_data_loader\n",
    "\n",
    "> Esta classe carrega os dados em um banco de dados Postgres formatando o nome da tabela para um padrão \"tb_nome_da_tabela\""
   ]
  },
  {
   "cell_type": "code",
   "execution_count": null,
   "metadata": {},
   "outputs": [],
   "source": [
    "#| default_exp olist_data_loader"
   ]
  },
  {
   "cell_type": "code",
   "execution_count": null,
   "metadata": {},
   "outputs": [],
   "source": [
    "#| hide\n",
    "from nbdev.showdoc import *"
   ]
  },
  {
   "cell_type": "code",
   "execution_count": null,
   "metadata": {},
   "outputs": [],
   "source": [
    "#| export\n",
    "import os\n",
    "\n",
    "import pandas as pd\n",
    "from sqlalchemy import create_engine"
   ]
  },
  {
   "cell_type": "code",
   "execution_count": null,
   "metadata": {},
   "outputs": [],
   "source": [
    "#| export\n",
    "class OlistDataLoader:\n",
    "    \"\"\"Carrega os datasets para um banco de dados Postgres e formata o nome das tabelas para o padrão tb_nome_da_tabela\"\"\"\n",
    "\n",
    "    def __init__(self, datasets_path, database_engine):\n",
    "        self.datasets_path = datasets_path\n",
    "        self.database_engine = database_engine\n",
    "\n",
    "    def load_data(self):\n",
    "        \"\"\"Itera pelo diretório de arquivos brutos e carrega os datasets para banco de dados Postgres\"\"\"\n",
    "\n",
    "        for csv_file in os.listdir(self.datasets_path):\n",
    "            df_temp = pd.read_csv(os.path.join(self.datasets_path, csv_file))\n",
    "            table_names = \"tb_\" + csv_file.strip(\".csv\").replace(\"olist_\", \"\").replace(\n",
    "                \"_dataset\", \"\"\n",
    "            )\n",
    "            df_temp.to_sql(\n",
    "                table_names, con=self.database_engine, if_exists=\"replace\", index=False\n",
    "            )"
   ]
  },
  {
   "cell_type": "code",
   "execution_count": null,
   "metadata": {},
   "outputs": [],
   "source": [
    "#| hide\n",
    "import nbdev\n",
    "\n",
    "nbdev.nbdev_export()"
   ]
  }
 ],
 "metadata": {
  "kernelspec": {
   "display_name": "Python 3 (ipykernel)",
   "language": "python",
   "name": "python3"
  }
 },
 "nbformat": 4,
 "nbformat_minor": 4
}
