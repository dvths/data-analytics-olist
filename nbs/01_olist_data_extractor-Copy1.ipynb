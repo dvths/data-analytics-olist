{
 "cells": [
  {
   "cell_type": "markdown",
   "metadata": {},
   "source": [
    "# olist_data_extractor\n",
    "\n",
    "> Esta classe extrai os arquivos compactados para o diretório de arquivos brutos"
   ]
  },
  {
   "cell_type": "code",
   "execution_count": null,
   "metadata": {},
   "outputs": [],
   "source": [
    "#| default_exp olist_data_extractor "
   ]
  },
  {
   "cell_type": "code",
   "execution_count": null,
   "metadata": {},
   "outputs": [],
   "source": [
    "#| hide\n",
    "from nbdev.showdoc import *"
   ]
  },
  {
   "cell_type": "code",
   "execution_count": null,
   "metadata": {},
   "outputs": [],
   "source": [
    "#| export\n",
    "import os\n",
    "from zipfile import ZipFile"
   ]
  },
  {
   "cell_type": "code",
   "execution_count": null,
   "metadata": {},
   "outputs": [],
   "source": [
    "#| export\n",
    "class OlistDataExtractor:\n",
    "    \"\"\"Extrai os arquivos de dados compactados para o diretório de arquivos brutos \"\"\"\n",
    "    \n",
    "    def __init__(self, zip_file, data_dir, output_path):\n",
    "        self.data_dir = data_dir\n",
    "        self.zip_file = zip_file\n",
    "        self.output_path = output_path\n",
    "\n",
    "    \n",
    "    def exract_data(self):\n",
    "        with ZipFile(os.path.join(self.data_dir, self.zip_file), \"r\") as data_raw:\n",
    "            data_raw.extractall(path=os.path.join(self.data_dir, self.output_path))"
   ]
  },
  {
   "cell_type": "code",
   "execution_count": null,
   "metadata": {},
   "outputs": [],
   "source": [
    "# | hide\n",
    "import nbdev; nbdev.nbdev_export()"
   ]
  }
 ],
 "metadata": {
  "kernelspec": {
   "display_name": "Python 3 (ipykernel)",
   "language": "python",
   "name": "python3"
  }
 },
 "nbformat": 4,
 "nbformat_minor": 4
}
