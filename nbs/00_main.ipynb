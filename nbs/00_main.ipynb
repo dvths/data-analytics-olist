{
 "cells": [
  {
   "cell_type": "markdown",
   "metadata": {},
   "source": [
    "# main\n",
    "\n",
    "> Módulo principal de execução das tarefas de caregamento."
   ]
  },
  {
   "cell_type": "code",
   "execution_count": null,
   "metadata": {},
   "outputs": [],
   "source": [
    "#| default_exp main "
   ]
  },
  {
   "cell_type": "code",
   "execution_count": null,
   "metadata": {},
   "outputs": [],
   "source": [
    "#| hide\n",
    "from nbdev.showdoc import *"
   ]
  },
  {
   "cell_type": "code",
   "execution_count": null,
   "metadata": {},
   "outputs": [
    {
     "data": {
      "text/plain": [
       "True"
      ]
     },
     "execution_count": null,
     "metadata": {},
     "output_type": "execute_result"
    }
   ],
   "source": [
    "#| export\n",
    "import os\n",
    "from dotenv import load_dotenv\n",
    "from sqlalchemy import create_engine \n",
    "from data_analytics_olist.olist_data_extractor import OlistDataExtractor\n",
    "from data_analytics_olist.olist_data_loader import OlistDataLoader\n",
    "\n",
    "load_dotenv()"
   ]
  },
  {
   "cell_type": "code",
   "execution_count": null,
   "metadata": {},
   "outputs": [],
   "source": [
    "#| export\n",
    "def main():\n",
    "    \n",
    "    BASE_DIR = os.path.dirname(os.getcwd())\n",
    "    DATA_DIR = os.path.join(BASE_DIR, \"data\")\n",
    "    DATA_RAW = os.path.join(DATA_DIR, \"raw\")\n",
    "    ZIP_FILE = \"olist_data.zip\"\n",
    "    CONNECTION_STRING = os.environ.get(\"CONNECTION_STRING\")\n",
    "    DB = create_engine(CONNECTION_STRING)\n",
    "    \n",
    "    \n",
    "    olist_extractor = OlistDataExtractor(\n",
    "        zip_file=ZIP_FILE, data_dir=DATA_DIR, output_path=DATA_RAW\n",
    "    )\n",
    "    \n",
    "    olist_extractor.exract_data()\n",
    "    \n",
    "    olist_loader = OlistDataLoader(datasets_path=DATA_RAW, database_engine=DB)\n",
    "    \n",
    "    olist_loader.load_data()\n",
    "        "
   ]
  },
  {
   "cell_type": "code",
   "execution_count": null,
   "metadata": {},
   "outputs": [],
   "source": [
    "#| export\n",
    "if __name__ == \"__main__\":\n",
    "    main()"
   ]
  },
  {
   "cell_type": "code",
   "execution_count": null,
   "metadata": {},
   "outputs": [],
   "source": [
    "#| hide\n",
    "import nbdev; nbdev.nbdev_export()"
   ]
  }
 ],
 "metadata": {
  "kernelspec": {
   "display_name": "Python 3 (ipykernel)",
   "language": "python",
   "name": "python3"
  }
 },
 "nbformat": 4,
 "nbformat_minor": 4
}
